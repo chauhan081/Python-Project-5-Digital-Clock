{
 "cells": [
  {
   "cell_type": "code",
   "execution_count": 1,
   "id": "509d612c-20fc-4f3b-a945-c781f5c5f236",
   "metadata": {},
   "outputs": [],
   "source": [
    "from tkinter import Label, Tk  \n",
    "import time  \n",
    "\n",
    "app = Tk()  \n",
    "app.title(\"🕒 Digital Clock\")  \n",
    "app.geometry(\"300x100\")  \n",
    "app.resizable(False, False)  \n",
    "app.configure(bg=\"black\")  \n",
    "\n",
    "clock_label = Label(app, bg=\"black\", fg=\"cyan\", font=(\"Helvetica\", 40), relief='flat')  \n",
    "clock_label.place(x=20, y=20)\n",
    "\n",
    "def update_time():\n",
    "    current_time = time.strftime(\"%H:%M:%S\")\n",
    "    clock_label.config(text=current_time)\n",
    "    clock_label.after(1000, update_time)\n",
    "\n",
    "update_time()  \n",
    "app.mainloop()"
   ]
  },
  {
   "cell_type": "code",
   "execution_count": null,
   "id": "462bd925-fa55-4dff-8cda-19455edd1b07",
   "metadata": {},
   "outputs": [],
   "source": []
  }
 ],
 "metadata": {
  "kernelspec": {
   "display_name": "Python 3 (ipykernel)",
   "language": "python",
   "name": "python3"
  },
  "language_info": {
   "codemirror_mode": {
    "name": "ipython",
    "version": 3
   },
   "file_extension": ".py",
   "mimetype": "text/x-python",
   "name": "python",
   "nbconvert_exporter": "python",
   "pygments_lexer": "ipython3",
   "version": "3.13.5"
  }
 },
 "nbformat": 4,
 "nbformat_minor": 5
}
